{
 "cells": [
  {
   "cell_type": "code",
   "execution_count": null,
   "id": "6314a8ea",
   "metadata": {},
   "outputs": [],
   "source": [
    "5. a = 12345\n",
    "    1. output should be 54321\n",
    "    2. withoud converting this integer to string in no case.\n",
    "    \n",
    "6. in any list to tell wether the numbers are in ascending order or not\n",
    "    1. [1,2,3,4,5,6] output = True\n",
    "    2. [1,2,3,5,6,7] output = Flase"
   ]
  },
  {
   "cell_type": "code",
   "execution_count": null,
   "id": "2c1e3ab3",
   "metadata": {},
   "outputs": [],
   "source": [
    "5. a = 12345\n",
    "    1. output should be 54321\n",
    "    2. withoud converting this integer to string in no case."
   ]
  },
  {
   "cell_type": "markdown",
   "id": "421eb5d3",
   "metadata": {},
   "source": [
    "#### Answers"
   ]
  },
  {
   "cell_type": "code",
   "execution_count": 7,
   "id": "53d88a3e",
   "metadata": {},
   "outputs": [
    {
     "name": "stdout",
     "output_type": "stream",
     "text": [
      "54321\n"
     ]
    }
   ],
   "source": [
    "a = 12345\n",
    "rev=0\n",
    "while(a>0):\n",
    "    rev=(rev*10)+a%10\n",
    "    a=a//10\n",
    "print(rev)"
   ]
  },
  {
   "cell_type": "code",
   "execution_count": null,
   "id": "5a8cee63",
   "metadata": {},
   "outputs": [],
   "source": [
    "6. in any list to tell wether the numbers are in ascending order or not\n",
    "    1. [1,2,3,4,5,6] output = True\n",
    "    2. [1,2,3,5,6,7] output = Flase"
   ]
  },
  {
   "cell_type": "markdown",
   "id": "858bd09d",
   "metadata": {},
   "source": [
    "#### Answers"
   ]
  },
  {
   "cell_type": "code",
   "execution_count": 1,
   "id": "aa636af3",
   "metadata": {},
   "outputs": [
    {
     "name": "stdout",
     "output_type": "stream",
     "text": [
      "False\n"
     ]
    }
   ],
   "source": [
    "a=[1,2,3,5,4]\n",
    "b=a[:]\n",
    "b.sort()\n",
    "if(b==a):\n",
    "    print(True)\n",
    "else:\n",
    "    print(False)"
   ]
  },
  {
   "cell_type": "code",
   "execution_count": null,
   "id": "6da8b651",
   "metadata": {},
   "outputs": [],
   "source": []
  }
 ],
 "metadata": {
  "kernelspec": {
   "display_name": "Python 3 (ipykernel)",
   "language": "python",
   "name": "python3"
  },
  "language_info": {
   "codemirror_mode": {
    "name": "ipython",
    "version": 3
   },
   "file_extension": ".py",
   "mimetype": "text/x-python",
   "name": "python",
   "nbconvert_exporter": "python",
   "pygments_lexer": "ipython3",
   "version": "3.9.7"
  }
 },
 "nbformat": 4,
 "nbformat_minor": 5
}
